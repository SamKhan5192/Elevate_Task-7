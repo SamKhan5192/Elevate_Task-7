{
 "cells": [
  {
   "cell_type": "code",
   "execution_count": 1,
   "metadata": {
    "id": "OVjlD4UYUzLP"
   },
   "outputs": [],
   "source": [
    "# Importing Commom Libraries\n",
    "\n",
    "import sqlite3\n",
    "import pandas as pd\n",
    "import matplotlib.pyplot as plt\n",
    "import seaborn as sns\n",
    "import os"
   ]
  },
  {
   "cell_type": "code",
   "execution_count": 2,
   "metadata": {
    "id": "qYPImjHqU4RO"
   },
   "outputs": [],
   "source": [
    "# Connect to SQLite database (creates it if it doesn't exist)\n",
    "conn = sqlite3.connect(\"sales_data.db\")\n",
    "cursor = conn.cursor()"
   ]
  },
  {
   "cell_type": "code",
   "execution_count": 3,
   "metadata": {
    "colab": {
     "base_uri": "https://localhost:8080/"
    },
    "id": "Frp-XTL5U9Yi",
    "outputId": "c8fb100e-cc96-4251-d139-09a4a2581ef7"
   },
   "outputs": [
    {
     "data": {
      "text/plain": [
       "<sqlite3.Cursor at 0x1be93a06640>"
      ]
     },
     "execution_count": 3,
     "metadata": {},
     "output_type": "execute_result"
    }
   ],
   "source": [
    "cursor.execute(\"\"\"\n",
    "    CREATE TABLE Sales (\n",
    "        id INTEGER PRIMARY KEY AUTOINCREMENT,\n",
    "        product TEXT NOT NULL,\n",
    "        category TEXT NOT NULL,\n",
    "        quantity INTEGER NOT NULL,\n",
    "        price REAL NOT NULL\n",
    ")\n",
    "\"\"\")"
   ]
  },
  {
   "cell_type": "code",
   "execution_count": 4,
   "metadata": {
    "id": "mcOlYphqVAua"
   },
   "outputs": [],
   "source": [
    "# Creating Variable for Input Rows\n",
    "sample_data = [\n",
    "('Apple iPhone 14', 'Electronics', 25, 799.99),\n",
    "('Nike Air Max 270', 'Footwear', 40, 129.99),\n",
    "('Samsung TV 55\"', 'Electronics', 15, 499.50),\n",
    "('Levi''s Jeans', 'Apparel', 60, 59.99),\n",
    "('HP Pavilion 15', 'Computers', 12, 699.00),\n",
    "('Sony WH-1000XM5', 'Electronics', 30, 349.95),\n",
    "('Adidas Hoodie', 'Apparel', 45, 65.00),\n",
    "('Instant Pot Duo', 'Kitchen', 22, 89.99),\n",
    "('Logitech Mouse', 'Accessories', 80, 24.99),\n",
    "('Kindle Paperwhite', 'Electronics', 18, 139.99),\n",
    "('Dell XPS 13', 'Computers', 10, 999.99),\n",
    "('NutriBullet Pro', 'Kitchen', 35, 79.95),\n",
    "('Under Armour Shorts', 'Apparel', 50, 35.00),\n",
    "('Bose SoundLink Flex', 'Electronics', 20, 149.00),\n",
    "('Canon EOS M50', 'Electronics', 8, 649.00),\n",
    "('Crocs Classic Clog', 'Footwear', 70, 44.99),\n",
    "('Anker Power Bank', 'Accessories', 90, 39.99),\n",
    "('Microsoft Surface Go 3', 'Computers', 9, 599.99),\n",
    "('T-fal Frying Pan Set', 'Kitchen', 25, 49.99),\n",
    "('Ray-Ban Wayfarer', 'Accessories', 33, 154.00)]"
   ]
  },
  {
   "cell_type": "code",
   "execution_count": 5,
   "metadata": {
    "colab": {
     "base_uri": "https://localhost:8080/"
    },
    "id": "AndMrJ5JVbuZ",
    "outputId": "eb8a2188-51ec-4f8d-ee09-1ca24c7c406c"
   },
   "outputs": [
    {
     "data": {
      "text/plain": [
       "<sqlite3.Cursor at 0x1be93a06640>"
      ]
     },
     "execution_count": 5,
     "metadata": {},
     "output_type": "execute_result"
    }
   ],
   "source": [
    "# Inserting rows in the table\n",
    "cursor.executemany('INSERT INTO sales (product, category, quantity, price) VALUES (?, ?, ?, ?)', sample_data)"
   ]
  },
  {
   "cell_type": "code",
   "execution_count": 6,
   "metadata": {
    "colab": {
     "base_uri": "https://localhost:8080/",
     "height": 677
    },
    "id": "S4OR5YLvi0bx",
    "outputId": "b63d5eba-4e1d-4ddd-c949-06a9406803bb"
   },
   "outputs": [
    {
     "data": {
      "text/html": [
       "<div>\n",
       "<style scoped>\n",
       "    .dataframe tbody tr th:only-of-type {\n",
       "        vertical-align: middle;\n",
       "    }\n",
       "\n",
       "    .dataframe tbody tr th {\n",
       "        vertical-align: top;\n",
       "    }\n",
       "\n",
       "    .dataframe thead th {\n",
       "        text-align: right;\n",
       "    }\n",
       "</style>\n",
       "<table border=\"1\" class=\"dataframe\">\n",
       "  <thead>\n",
       "    <tr style=\"text-align: right;\">\n",
       "      <th></th>\n",
       "      <th>id</th>\n",
       "      <th>product</th>\n",
       "      <th>category</th>\n",
       "      <th>quantity</th>\n",
       "      <th>price</th>\n",
       "    </tr>\n",
       "  </thead>\n",
       "  <tbody>\n",
       "    <tr>\n",
       "      <th>0</th>\n",
       "      <td>1</td>\n",
       "      <td>Apple iPhone 14</td>\n",
       "      <td>Electronics</td>\n",
       "      <td>25</td>\n",
       "      <td>799.99</td>\n",
       "    </tr>\n",
       "    <tr>\n",
       "      <th>1</th>\n",
       "      <td>2</td>\n",
       "      <td>Nike Air Max 270</td>\n",
       "      <td>Footwear</td>\n",
       "      <td>40</td>\n",
       "      <td>129.99</td>\n",
       "    </tr>\n",
       "    <tr>\n",
       "      <th>2</th>\n",
       "      <td>3</td>\n",
       "      <td>Samsung TV 55\"</td>\n",
       "      <td>Electronics</td>\n",
       "      <td>15</td>\n",
       "      <td>499.50</td>\n",
       "    </tr>\n",
       "    <tr>\n",
       "      <th>3</th>\n",
       "      <td>4</td>\n",
       "      <td>Levis Jeans</td>\n",
       "      <td>Apparel</td>\n",
       "      <td>60</td>\n",
       "      <td>59.99</td>\n",
       "    </tr>\n",
       "    <tr>\n",
       "      <th>4</th>\n",
       "      <td>5</td>\n",
       "      <td>HP Pavilion 15</td>\n",
       "      <td>Computers</td>\n",
       "      <td>12</td>\n",
       "      <td>699.00</td>\n",
       "    </tr>\n",
       "    <tr>\n",
       "      <th>5</th>\n",
       "      <td>6</td>\n",
       "      <td>Sony WH-1000XM5</td>\n",
       "      <td>Electronics</td>\n",
       "      <td>30</td>\n",
       "      <td>349.95</td>\n",
       "    </tr>\n",
       "    <tr>\n",
       "      <th>6</th>\n",
       "      <td>7</td>\n",
       "      <td>Adidas Hoodie</td>\n",
       "      <td>Apparel</td>\n",
       "      <td>45</td>\n",
       "      <td>65.00</td>\n",
       "    </tr>\n",
       "    <tr>\n",
       "      <th>7</th>\n",
       "      <td>8</td>\n",
       "      <td>Instant Pot Duo</td>\n",
       "      <td>Kitchen</td>\n",
       "      <td>22</td>\n",
       "      <td>89.99</td>\n",
       "    </tr>\n",
       "    <tr>\n",
       "      <th>8</th>\n",
       "      <td>9</td>\n",
       "      <td>Logitech Mouse</td>\n",
       "      <td>Accessories</td>\n",
       "      <td>80</td>\n",
       "      <td>24.99</td>\n",
       "    </tr>\n",
       "    <tr>\n",
       "      <th>9</th>\n",
       "      <td>10</td>\n",
       "      <td>Kindle Paperwhite</td>\n",
       "      <td>Electronics</td>\n",
       "      <td>18</td>\n",
       "      <td>139.99</td>\n",
       "    </tr>\n",
       "    <tr>\n",
       "      <th>10</th>\n",
       "      <td>11</td>\n",
       "      <td>Dell XPS 13</td>\n",
       "      <td>Computers</td>\n",
       "      <td>10</td>\n",
       "      <td>999.99</td>\n",
       "    </tr>\n",
       "    <tr>\n",
       "      <th>11</th>\n",
       "      <td>12</td>\n",
       "      <td>NutriBullet Pro</td>\n",
       "      <td>Kitchen</td>\n",
       "      <td>35</td>\n",
       "      <td>79.95</td>\n",
       "    </tr>\n",
       "    <tr>\n",
       "      <th>12</th>\n",
       "      <td>13</td>\n",
       "      <td>Under Armour Shorts</td>\n",
       "      <td>Apparel</td>\n",
       "      <td>50</td>\n",
       "      <td>35.00</td>\n",
       "    </tr>\n",
       "    <tr>\n",
       "      <th>13</th>\n",
       "      <td>14</td>\n",
       "      <td>Bose SoundLink Flex</td>\n",
       "      <td>Electronics</td>\n",
       "      <td>20</td>\n",
       "      <td>149.00</td>\n",
       "    </tr>\n",
       "    <tr>\n",
       "      <th>14</th>\n",
       "      <td>15</td>\n",
       "      <td>Canon EOS M50</td>\n",
       "      <td>Electronics</td>\n",
       "      <td>8</td>\n",
       "      <td>649.00</td>\n",
       "    </tr>\n",
       "    <tr>\n",
       "      <th>15</th>\n",
       "      <td>16</td>\n",
       "      <td>Crocs Classic Clog</td>\n",
       "      <td>Footwear</td>\n",
       "      <td>70</td>\n",
       "      <td>44.99</td>\n",
       "    </tr>\n",
       "    <tr>\n",
       "      <th>16</th>\n",
       "      <td>17</td>\n",
       "      <td>Anker Power Bank</td>\n",
       "      <td>Accessories</td>\n",
       "      <td>90</td>\n",
       "      <td>39.99</td>\n",
       "    </tr>\n",
       "    <tr>\n",
       "      <th>17</th>\n",
       "      <td>18</td>\n",
       "      <td>Microsoft Surface Go 3</td>\n",
       "      <td>Computers</td>\n",
       "      <td>9</td>\n",
       "      <td>599.99</td>\n",
       "    </tr>\n",
       "    <tr>\n",
       "      <th>18</th>\n",
       "      <td>19</td>\n",
       "      <td>T-fal Frying Pan Set</td>\n",
       "      <td>Kitchen</td>\n",
       "      <td>25</td>\n",
       "      <td>49.99</td>\n",
       "    </tr>\n",
       "    <tr>\n",
       "      <th>19</th>\n",
       "      <td>20</td>\n",
       "      <td>Ray-Ban Wayfarer</td>\n",
       "      <td>Accessories</td>\n",
       "      <td>33</td>\n",
       "      <td>154.00</td>\n",
       "    </tr>\n",
       "  </tbody>\n",
       "</table>\n",
       "</div>"
      ],
      "text/plain": [
       "    id                 product     category  quantity   price\n",
       "0    1         Apple iPhone 14  Electronics        25  799.99\n",
       "1    2        Nike Air Max 270     Footwear        40  129.99\n",
       "2    3          Samsung TV 55\"  Electronics        15  499.50\n",
       "3    4             Levis Jeans      Apparel        60   59.99\n",
       "4    5          HP Pavilion 15    Computers        12  699.00\n",
       "5    6         Sony WH-1000XM5  Electronics        30  349.95\n",
       "6    7           Adidas Hoodie      Apparel        45   65.00\n",
       "7    8         Instant Pot Duo      Kitchen        22   89.99\n",
       "8    9          Logitech Mouse  Accessories        80   24.99\n",
       "9   10       Kindle Paperwhite  Electronics        18  139.99\n",
       "10  11             Dell XPS 13    Computers        10  999.99\n",
       "11  12         NutriBullet Pro      Kitchen        35   79.95\n",
       "12  13     Under Armour Shorts      Apparel        50   35.00\n",
       "13  14     Bose SoundLink Flex  Electronics        20  149.00\n",
       "14  15           Canon EOS M50  Electronics         8  649.00\n",
       "15  16      Crocs Classic Clog     Footwear        70   44.99\n",
       "16  17        Anker Power Bank  Accessories        90   39.99\n",
       "17  18  Microsoft Surface Go 3    Computers         9  599.99\n",
       "18  19    T-fal Frying Pan Set      Kitchen        25   49.99\n",
       "19  20        Ray-Ban Wayfarer  Accessories        33  154.00"
      ]
     },
     "execution_count": 6,
     "metadata": {},
     "output_type": "execute_result"
    }
   ],
   "source": [
    "Data = pd.read_sql_query('SELECT * FROM sales', conn)\n",
    "Data"
   ]
  },
  {
   "cell_type": "code",
   "execution_count": 7,
   "metadata": {
    "id": "r_gbkibxV81e"
   },
   "outputs": [],
   "source": [
    "# Define SQl Query for total revenue Product wise\n",
    "query = '''\n",
    "    select\n",
    "        Product,\n",
    "        sum(quantity) as Total_quantity,\n",
    "        sum(price * price) as Revenue\n",
    "    from sales\n",
    "    group by product\n",
    "\n",
    "'''"
   ]
  },
  {
   "cell_type": "code",
   "execution_count": 8,
   "metadata": {
    "colab": {
     "base_uri": "https://localhost:8080/",
     "height": 677
    },
    "id": "fj2XyHQQibGs",
    "outputId": "6f757b17-55ff-4ac2-a58d-34b713140eb5"
   },
   "outputs": [
    {
     "data": {
      "text/html": [
       "<div>\n",
       "<style scoped>\n",
       "    .dataframe tbody tr th:only-of-type {\n",
       "        vertical-align: middle;\n",
       "    }\n",
       "\n",
       "    .dataframe tbody tr th {\n",
       "        vertical-align: top;\n",
       "    }\n",
       "\n",
       "    .dataframe thead th {\n",
       "        text-align: right;\n",
       "    }\n",
       "</style>\n",
       "<table border=\"1\" class=\"dataframe\">\n",
       "  <thead>\n",
       "    <tr style=\"text-align: right;\">\n",
       "      <th></th>\n",
       "      <th>product</th>\n",
       "      <th>Total_quantity</th>\n",
       "      <th>Revenue</th>\n",
       "    </tr>\n",
       "  </thead>\n",
       "  <tbody>\n",
       "    <tr>\n",
       "      <th>0</th>\n",
       "      <td>Adidas Hoodie</td>\n",
       "      <td>45</td>\n",
       "      <td>4225.0000</td>\n",
       "    </tr>\n",
       "    <tr>\n",
       "      <th>1</th>\n",
       "      <td>Anker Power Bank</td>\n",
       "      <td>90</td>\n",
       "      <td>1599.2001</td>\n",
       "    </tr>\n",
       "    <tr>\n",
       "      <th>2</th>\n",
       "      <td>Apple iPhone 14</td>\n",
       "      <td>25</td>\n",
       "      <td>639984.0001</td>\n",
       "    </tr>\n",
       "    <tr>\n",
       "      <th>3</th>\n",
       "      <td>Bose SoundLink Flex</td>\n",
       "      <td>20</td>\n",
       "      <td>22201.0000</td>\n",
       "    </tr>\n",
       "    <tr>\n",
       "      <th>4</th>\n",
       "      <td>Canon EOS M50</td>\n",
       "      <td>8</td>\n",
       "      <td>421201.0000</td>\n",
       "    </tr>\n",
       "    <tr>\n",
       "      <th>5</th>\n",
       "      <td>Crocs Classic Clog</td>\n",
       "      <td>70</td>\n",
       "      <td>2024.1001</td>\n",
       "    </tr>\n",
       "    <tr>\n",
       "      <th>6</th>\n",
       "      <td>Dell XPS 13</td>\n",
       "      <td>10</td>\n",
       "      <td>999980.0001</td>\n",
       "    </tr>\n",
       "    <tr>\n",
       "      <th>7</th>\n",
       "      <td>HP Pavilion 15</td>\n",
       "      <td>12</td>\n",
       "      <td>488601.0000</td>\n",
       "    </tr>\n",
       "    <tr>\n",
       "      <th>8</th>\n",
       "      <td>Instant Pot Duo</td>\n",
       "      <td>22</td>\n",
       "      <td>8098.2001</td>\n",
       "    </tr>\n",
       "    <tr>\n",
       "      <th>9</th>\n",
       "      <td>Kindle Paperwhite</td>\n",
       "      <td>18</td>\n",
       "      <td>19597.2001</td>\n",
       "    </tr>\n",
       "    <tr>\n",
       "      <th>10</th>\n",
       "      <td>Levis Jeans</td>\n",
       "      <td>60</td>\n",
       "      <td>3598.8001</td>\n",
       "    </tr>\n",
       "    <tr>\n",
       "      <th>11</th>\n",
       "      <td>Logitech Mouse</td>\n",
       "      <td>80</td>\n",
       "      <td>624.5001</td>\n",
       "    </tr>\n",
       "    <tr>\n",
       "      <th>12</th>\n",
       "      <td>Microsoft Surface Go 3</td>\n",
       "      <td>9</td>\n",
       "      <td>359988.0001</td>\n",
       "    </tr>\n",
       "    <tr>\n",
       "      <th>13</th>\n",
       "      <td>Nike Air Max 270</td>\n",
       "      <td>40</td>\n",
       "      <td>16897.4001</td>\n",
       "    </tr>\n",
       "    <tr>\n",
       "      <th>14</th>\n",
       "      <td>NutriBullet Pro</td>\n",
       "      <td>35</td>\n",
       "      <td>6392.0025</td>\n",
       "    </tr>\n",
       "    <tr>\n",
       "      <th>15</th>\n",
       "      <td>Ray-Ban Wayfarer</td>\n",
       "      <td>33</td>\n",
       "      <td>23716.0000</td>\n",
       "    </tr>\n",
       "    <tr>\n",
       "      <th>16</th>\n",
       "      <td>Samsung TV 55\"</td>\n",
       "      <td>15</td>\n",
       "      <td>249500.2500</td>\n",
       "    </tr>\n",
       "    <tr>\n",
       "      <th>17</th>\n",
       "      <td>Sony WH-1000XM5</td>\n",
       "      <td>30</td>\n",
       "      <td>122465.0025</td>\n",
       "    </tr>\n",
       "    <tr>\n",
       "      <th>18</th>\n",
       "      <td>T-fal Frying Pan Set</td>\n",
       "      <td>25</td>\n",
       "      <td>2499.0001</td>\n",
       "    </tr>\n",
       "    <tr>\n",
       "      <th>19</th>\n",
       "      <td>Under Armour Shorts</td>\n",
       "      <td>50</td>\n",
       "      <td>1225.0000</td>\n",
       "    </tr>\n",
       "  </tbody>\n",
       "</table>\n",
       "</div>"
      ],
      "text/plain": [
       "                   product  Total_quantity      Revenue\n",
       "0            Adidas Hoodie              45    4225.0000\n",
       "1         Anker Power Bank              90    1599.2001\n",
       "2          Apple iPhone 14              25  639984.0001\n",
       "3      Bose SoundLink Flex              20   22201.0000\n",
       "4            Canon EOS M50               8  421201.0000\n",
       "5       Crocs Classic Clog              70    2024.1001\n",
       "6              Dell XPS 13              10  999980.0001\n",
       "7           HP Pavilion 15              12  488601.0000\n",
       "8          Instant Pot Duo              22    8098.2001\n",
       "9        Kindle Paperwhite              18   19597.2001\n",
       "10             Levis Jeans              60    3598.8001\n",
       "11          Logitech Mouse              80     624.5001\n",
       "12  Microsoft Surface Go 3               9  359988.0001\n",
       "13        Nike Air Max 270              40   16897.4001\n",
       "14         NutriBullet Pro              35    6392.0025\n",
       "15        Ray-Ban Wayfarer              33   23716.0000\n",
       "16          Samsung TV 55\"              15  249500.2500\n",
       "17         Sony WH-1000XM5              30  122465.0025\n",
       "18    T-fal Frying Pan Set              25    2499.0001\n",
       "19     Under Armour Shorts              50    1225.0000"
      ]
     },
     "execution_count": 8,
     "metadata": {},
     "output_type": "execute_result"
    }
   ],
   "source": [
    "# Run Sql query and load it into pandas data frame\n",
    "df = pd.read_sql_query(query, conn)\n",
    "df"
   ]
  },
  {
   "cell_type": "code",
   "execution_count": 9,
   "metadata": {
    "colab": {
     "base_uri": "https://localhost:8080/"
    },
    "id": "uuhHr0iyoZhw",
    "outputId": "5e07e7f6-7f86-43f7-9419-99964437e5f6"
   },
   "outputs": [
    {
     "name": "stdout",
     "output_type": "stream",
     "text": [
      "                   product  Total_quantity      Revenue\n",
      "0            Adidas Hoodie              45    4225.0000\n",
      "1         Anker Power Bank              90    1599.2001\n",
      "2          Apple iPhone 14              25  639984.0001\n",
      "3      Bose SoundLink Flex              20   22201.0000\n",
      "4            Canon EOS M50               8  421201.0000\n",
      "5       Crocs Classic Clog              70    2024.1001\n",
      "6              Dell XPS 13              10  999980.0001\n",
      "7           HP Pavilion 15              12  488601.0000\n",
      "8          Instant Pot Duo              22    8098.2001\n",
      "9        Kindle Paperwhite              18   19597.2001\n",
      "10             Levis Jeans              60    3598.8001\n",
      "11          Logitech Mouse              80     624.5001\n",
      "12  Microsoft Surface Go 3               9  359988.0001\n",
      "13        Nike Air Max 270              40   16897.4001\n",
      "14         NutriBullet Pro              35    6392.0025\n",
      "15        Ray-Ban Wayfarer              33   23716.0000\n",
      "16          Samsung TV 55\"              15  249500.2500\n",
      "17         Sony WH-1000XM5              30  122465.0025\n",
      "18    T-fal Frying Pan Set              25    2499.0001\n",
      "19     Under Armour Shorts              50    1225.0000\n"
     ]
    }
   ],
   "source": [
    "print(df)"
   ]
  },
  {
   "cell_type": "code",
   "execution_count": 10,
   "metadata": {
    "id": "8F6nAHLfisr_"
   },
   "outputs": [],
   "source": [
    "# Define sql query for total revenue Category wise\n",
    "query1 = '''\n",
    "    select\n",
    "        Category,\n",
    "        sum(quantity) as Total_quantity,\n",
    "        sum(price * price) as Revenue\n",
    "    from sales\n",
    "    group by category\n",
    "\n",
    "'''"
   ]
  },
  {
   "cell_type": "code",
   "execution_count": 11,
   "metadata": {
    "colab": {
     "base_uri": "https://localhost:8080/",
     "height": 238
    },
    "id": "BuE-ndMAjTPf",
    "outputId": "742fa15e-685a-42cb-8b67-173b563d453f"
   },
   "outputs": [
    {
     "data": {
      "text/html": [
       "<div>\n",
       "<style scoped>\n",
       "    .dataframe tbody tr th:only-of-type {\n",
       "        vertical-align: middle;\n",
       "    }\n",
       "\n",
       "    .dataframe tbody tr th {\n",
       "        vertical-align: top;\n",
       "    }\n",
       "\n",
       "    .dataframe thead th {\n",
       "        text-align: right;\n",
       "    }\n",
       "</style>\n",
       "<table border=\"1\" class=\"dataframe\">\n",
       "  <thead>\n",
       "    <tr style=\"text-align: right;\">\n",
       "      <th></th>\n",
       "      <th>category</th>\n",
       "      <th>Total_quantity</th>\n",
       "      <th>Revenue</th>\n",
       "    </tr>\n",
       "  </thead>\n",
       "  <tbody>\n",
       "    <tr>\n",
       "      <th>0</th>\n",
       "      <td>Accessories</td>\n",
       "      <td>203</td>\n",
       "      <td>2.593970e+04</td>\n",
       "    </tr>\n",
       "    <tr>\n",
       "      <th>1</th>\n",
       "      <td>Apparel</td>\n",
       "      <td>155</td>\n",
       "      <td>9.048800e+03</td>\n",
       "    </tr>\n",
       "    <tr>\n",
       "      <th>2</th>\n",
       "      <td>Computers</td>\n",
       "      <td>31</td>\n",
       "      <td>1.848569e+06</td>\n",
       "    </tr>\n",
       "    <tr>\n",
       "      <th>3</th>\n",
       "      <td>Electronics</td>\n",
       "      <td>116</td>\n",
       "      <td>1.474948e+06</td>\n",
       "    </tr>\n",
       "    <tr>\n",
       "      <th>4</th>\n",
       "      <td>Footwear</td>\n",
       "      <td>110</td>\n",
       "      <td>1.892150e+04</td>\n",
       "    </tr>\n",
       "    <tr>\n",
       "      <th>5</th>\n",
       "      <td>Kitchen</td>\n",
       "      <td>82</td>\n",
       "      <td>1.698920e+04</td>\n",
       "    </tr>\n",
       "  </tbody>\n",
       "</table>\n",
       "</div>"
      ],
      "text/plain": [
       "      category  Total_quantity       Revenue\n",
       "0  Accessories             203  2.593970e+04\n",
       "1      Apparel             155  9.048800e+03\n",
       "2    Computers              31  1.848569e+06\n",
       "3  Electronics             116  1.474948e+06\n",
       "4     Footwear             110  1.892150e+04\n",
       "5      Kitchen              82  1.698920e+04"
      ]
     },
     "execution_count": 11,
     "metadata": {},
     "output_type": "execute_result"
    }
   ],
   "source": [
    "#  Load Query Results into Pandas and Display\n",
    "ds = pd.read_sql_query(query1, conn)\n",
    "ds"
   ]
  },
  {
   "cell_type": "code",
   "execution_count": 12,
   "metadata": {
    "id": "L-70DXkIjxDN"
   },
   "outputs": [],
   "source": [
    "# query to remove database\n",
    "# os.remove(\"sales_data.db\")"
   ]
  },
  {
   "cell_type": "markdown",
   "metadata": {
    "id": "DgKJE-8XpyAA"
   },
   "source": [
    "###  Plotting Bar Chart"
   ]
  },
  {
   "cell_type": "code",
   "execution_count": 13,
   "metadata": {
    "colab": {
     "base_uri": "https://localhost:8080/",
     "height": 608
    },
    "id": "YZvuO7LPkitM",
    "outputId": "791ae7f5-b41f-4fb7-8b14-fdcbda3f237d"
   },
   "outputs": [
    {
     "data": {
      "image/png": "[encoded data removed]",
      "text/plain": [
       "<Figure size 640x480 with 1 Axes>"
      ]
     },
     "metadata": {},
     "output_type": "display_data"
    }
   ],
   "source": [
    "# Plotting Revinue for Category\n",
    "df.plot(kind='bar', x='product', y='Revenue', legend=True)\n",
    "plt.title=('Revenue by Category')\n",
    "plt.xlabel('Products')\n",
    "plt.ylabel('Revenue')\n",
    "plt.show()"
   ]
  },
  {
   "cell_type": "code",
   "execution_count": 14,
   "metadata": {
    "colab": {
     "base_uri": "https://localhost:8080/",
     "height": 465
    },
    "id": "U_d0ArYulodi",
    "outputId": "649ca4b0-a2aa-42b9-fb10-3224b6bc8aef"
   },
   "outputs": [
    {
     "data": {
      "image/png": "[encoded data removed]",
      "text/plain": [
       "<Figure size 640x480 with 1 Axes>"
      ]
     },
     "metadata": {},
     "output_type": "display_data"
    }
   ],
   "source": [
    "import seaborn as sns\n",
    "sns.barplot(data=ds, x='category', y='Revenue')\n",
    "plt.title=('Revenue by Category')\n",
    "plt.xlabel('Category')\n",
    "plt.ylabel('Revenue')\n",
    "plt.show()"
   ]
  },
  {
   "cell_type": "code",
   "execution_count": 15,
   "metadata": {
    "colab": {
     "base_uri": "https://localhost:8080/",
     "height": 465
    },
    "id": "xKIFsOnYoA-l",
    "outputId": "56319e54-d2f3-4dc0-8858-fb19c29e5870"
   },
   "outputs": [
    {
     "data": {
      "image/png": "[encoded data removed]",
      "text/plain": [
       "<Figure size 640x480 with 1 Axes>"
      ]
     },
     "metadata": {},
     "output_type": "display_data"
    }
   ],
   "source": [
    "# took suggestion from colab 'AI'\n",
    "ax = sns.barplot(data=ds, x='category', y='Revenue')\n",
    "for p in ax.patches:\n",
    "    ax.annotate(format(p.get_height(), '.2f'),\n",
    "                   (p.get_x() + p.get_width() / 2., p.get_height()),\n",
    "                   ha = 'center', va = 'center',\n",
    "                   xytext = (0, 9),\n",
    "                   textcoords = 'offset points')\n",
    "plt.title=('Revenue by Category')\n",
    "plt.xlabel('Category')\n",
    "plt.ylabel('Revenue')\n",
    "plt.show()"
   ]
  },
  {
   "cell_type": "code",
   "execution_count": null,
   "metadata": {
    "id": "zameCsXbqXao"
   },
   "outputs": [],
   "source": []
  }
 ],
 "metadata": {
  "colab": {
   "provenance": []
  },
  "kernelspec": {
   "display_name": "Python 3 (ipykernel)",
   "language": "python",
   "name": "python3"
  },
  "language_info": {
   "codemirror_mode": {
    "name": "ipython",
    "version": 3
   },
   "file_extension": ".py",
   "mimetype": "text/x-python",
   "name": "python",
   "nbconvert_exporter": "python",
   "pygments_lexer": "ipython3",
   "version": "3.11.5"
  }
 },
 "nbformat": 4,
 "nbformat_minor": 1
}
